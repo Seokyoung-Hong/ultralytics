{
 "cells": [
  {
   "cell_type": "code",
   "execution_count": 1,
   "metadata": {},
   "outputs": [],
   "source": [
    "from ultralytics import YOLO\n",
    "from IPython.display import display, Image\n",
    "import comet_ml\n"
   ]
  },
  {
   "cell_type": "code",
   "execution_count": 2,
   "metadata": {},
   "outputs": [
    {
     "name": "stdout",
     "output_type": "stream",
     "text": [
      "Ultralytics YOLOv8.0.219 🚀 Python-3.11.1 torch-2.1.1+cu121 CUDA:0 (NVIDIA GeForce RTX 3060, 12287MiB)\n",
      "Setup complete ✅ (12 CPUs, 47.9 GB RAM, 684.8/931.5 GB disk)\n"
     ]
    }
   ],
   "source": [
    "import ultralytics\n",
    "ultralytics.checks()"
   ]
  },
  {
   "cell_type": "code",
   "execution_count": 3,
   "metadata": {},
   "outputs": [],
   "source": [
    "\n",
    "# 모델을 로드하세요.\n",
    "# model = YOLO('yolov8n.yaml')  # YAML에서 새 모델 구축\n",
    "model = YOLO('yolov8n.pt')  # 사전 훈련된 모델 로드 (훈련을 위해 권장됨)\n",
    "# model = YOLO('yolov8n.yaml').load('yolov8n.pt')  # YAML에서 구축 및 가중치 전달"
   ]
  },
  {
   "cell_type": "code",
   "execution_count": 4,
   "metadata": {},
   "outputs": [],
   "source": [
    "comet_ml.init(project_name=\"yolov8n_AI_Application\")\n"
   ]
  },
  {
   "cell_type": "code",
   "execution_count": 5,
   "metadata": {},
   "outputs": [
    {
     "name": "stdout",
     "output_type": "stream",
     "text": [
      "New https://pypi.org/project/ultralytics/8.0.220 available 😃 Update with 'pip install -U ultralytics'\n",
      "Ultralytics YOLOv8.0.219 🚀 Python-3.11.1 torch-2.1.1+cu121 CUDA:0 (NVIDIA GeForce RTX 3060, 12287MiB)\n",
      "\u001b[34m\u001b[1mengine\\trainer: \u001b[0mtask=detect, mode=train, model=yolov8n.pt, data=mydataset.yaml, epochs=10, patience=50, batch=16, imgsz=640, save=True, save_period=1, cache=False, device=None, workers=8, project=yolov8n_AI_Application, name=train3, exist_ok=False, pretrained=True, optimizer=auto, verbose=True, seed=0, deterministic=True, single_cls=False, rect=False, cos_lr=False, close_mosaic=10, resume=False, amp=True, fraction=1.0, profile=False, freeze=None, overlap_mask=True, mask_ratio=4, dropout=0.0, val=True, split=val, save_json=True, save_hybrid=False, conf=None, iou=0.7, max_det=300, half=False, dnn=False, plots=True, source=None, vid_stride=1, stream_buffer=False, visualize=False, augment=False, agnostic_nms=False, classes=None, retina_masks=False, show=False, save_frames=False, save_txt=False, save_conf=False, save_crop=False, show_labels=True, show_conf=True, show_boxes=True, line_width=None, format=torchscript, keras=False, optimize=False, int8=False, dynamic=False, simplify=False, opset=None, workspace=4, nms=False, lr0=0.01, lrf=0.01, momentum=0.937, weight_decay=0.0005, warmup_epochs=3.0, warmup_momentum=0.8, warmup_bias_lr=0.1, box=7.5, cls=0.5, dfl=1.5, pose=12.0, kobj=1.0, label_smoothing=0.0, nbs=64, hsv_h=0.015, hsv_s=0.7, hsv_v=0.4, degrees=0.0, translate=0.1, scale=0.5, shear=0.0, perspective=0.0, flipud=0.0, fliplr=0.5, mosaic=1.0, mixup=0.0, copy_paste=0.0, cfg=None, tracker=botsort.yaml, save_dir=yolov8n_AI_Application\\train3\n",
      "Overriding model.yaml nc=80 with nc=2\n",
      "\n",
      "                   from  n    params  module                                       arguments                     \n",
      "  0                  -1  1       464  ultralytics.nn.modules.conv.Conv             [3, 16, 3, 2]                 \n",
      "  1                  -1  1      4672  ultralytics.nn.modules.conv.Conv             [16, 32, 3, 2]                \n",
      "  2                  -1  1      7360  ultralytics.nn.modules.block.C2f             [32, 32, 1, True]             \n",
      "  3                  -1  1     18560  ultralytics.nn.modules.conv.Conv             [32, 64, 3, 2]                \n",
      "  4                  -1  2     49664  ultralytics.nn.modules.block.C2f             [64, 64, 2, True]             \n",
      "  5                  -1  1     73984  ultralytics.nn.modules.conv.Conv             [64, 128, 3, 2]               \n",
      "  6                  -1  2    197632  ultralytics.nn.modules.block.C2f             [128, 128, 2, True]           \n",
      "  7                  -1  1    295424  ultralytics.nn.modules.conv.Conv             [128, 256, 3, 2]              \n",
      "  8                  -1  1    460288  ultralytics.nn.modules.block.C2f             [256, 256, 1, True]           \n",
      "  9                  -1  1    164608  ultralytics.nn.modules.block.SPPF            [256, 256, 5]                 \n",
      " 10                  -1  1         0  torch.nn.modules.upsampling.Upsample         [None, 2, 'nearest']          \n",
      " 11             [-1, 6]  1         0  ultralytics.nn.modules.conv.Concat           [1]                           \n",
      " 12                  -1  1    148224  ultralytics.nn.modules.block.C2f             [384, 128, 1]                 \n",
      " 13                  -1  1         0  torch.nn.modules.upsampling.Upsample         [None, 2, 'nearest']          \n",
      " 14             [-1, 4]  1         0  ultralytics.nn.modules.conv.Concat           [1]                           \n",
      " 15                  -1  1     37248  ultralytics.nn.modules.block.C2f             [192, 64, 1]                  \n",
      " 16                  -1  1     36992  ultralytics.nn.modules.conv.Conv             [64, 64, 3, 2]                \n",
      " 17            [-1, 12]  1         0  ultralytics.nn.modules.conv.Concat           [1]                           \n",
      " 18                  -1  1    123648  ultralytics.nn.modules.block.C2f             [192, 128, 1]                 \n",
      " 19                  -1  1    147712  ultralytics.nn.modules.conv.Conv             [128, 128, 3, 2]              \n",
      " 20             [-1, 9]  1         0  ultralytics.nn.modules.conv.Concat           [1]                           \n",
      " 21                  -1  1    493056  ultralytics.nn.modules.block.C2f             [384, 256, 1]                 \n",
      " 22        [15, 18, 21]  1    751702  ultralytics.nn.modules.head.Detect           [2, [64, 128, 256]]           \n",
      "Model summary: 225 layers, 3011238 parameters, 3011222 gradients, 8.2 GFLOPs\n",
      "\n",
      "Transferred 319/355 items from pretrained weights\n"
     ]
    },
    {
     "name": "stderr",
     "output_type": "stream",
     "text": [
      "\u001b[1;38;5;214mCOMET WARNING:\u001b[0m To get all data logged automatically, import comet_ml before the following modules: torch.\n",
      "\u001b[1;38;5;214mCOMET WARNING:\u001b[0m As you are running in a Jupyter environment, you will need to call `experiment.end()` when finished to ensure all metrics and code are logged before exiting.\n",
      "\u001b[1;38;5;39mCOMET INFO:\u001b[0m Experiment is live on comet.com https://www.comet.com/seokyoung-hong/yolov8n-ai-application/2f1ff3e5785e41eabdb2dd0701731812\n",
      "\n"
     ]
    },
    {
     "name": "stdout",
     "output_type": "stream",
     "text": [
      "Freezing layer 'model.22.dfl.conv.weight'\n",
      "\u001b[34m\u001b[1mAMP: \u001b[0mrunning Automatic Mixed Precision (AMP) checks with YOLOv8n...\n",
      "\u001b[34m\u001b[1mAMP: \u001b[0mchecks passed ✅\n"
     ]
    },
    {
     "ename": "FileNotFoundError",
     "evalue": "\u001b[34m\u001b[1mtrain: \u001b[0mError loading data from E:\\AI-Hub\\my_dataset\\images\\train\nSee https://docs.ultralytics.com/datasets/detect for dataset formatting guidance.",
     "output_type": "error",
     "traceback": [
      "\u001b[1;31m---------------------------------------------------------------------------\u001b[0m",
      "\u001b[1;31mAssertionError\u001b[0m                            Traceback (most recent call last)",
      "File \u001b[1;32me:\\AI-Hub\\ultralytics\\ultralytics\\data\\base.py:118\u001b[0m, in \u001b[0;36mBaseDataset.get_img_files\u001b[1;34m(self, img_path)\u001b[0m\n\u001b[0;32m    117\u001b[0m     \u001b[39m# self.img_files = sorted([x for x in f if x.suffix[1:].lower() in IMG_FORMATS])  # pathlib\u001b[39;00m\n\u001b[1;32m--> 118\u001b[0m     \u001b[39massert\u001b[39;00m im_files, \u001b[39mf\u001b[39m\u001b[39m'\u001b[39m\u001b[39m{\u001b[39;00m\u001b[39mself\u001b[39m\u001b[39m.\u001b[39mprefix\u001b[39m}\u001b[39;00m\u001b[39mNo images found in \u001b[39m\u001b[39m{\u001b[39;00mimg_path\u001b[39m}\u001b[39;00m\u001b[39m'\u001b[39m\n\u001b[0;32m    119\u001b[0m \u001b[39mexcept\u001b[39;00m \u001b[39mException\u001b[39;00m \u001b[39mas\u001b[39;00m e:\n",
      "\u001b[1;31mAssertionError\u001b[0m: \u001b[34m\u001b[1mtrain: \u001b[0mNo images found in E:\\AI-Hub\\my_dataset\\images\\train",
      "\nThe above exception was the direct cause of the following exception:\n",
      "\u001b[1;31mFileNotFoundError\u001b[0m                         Traceback (most recent call last)",
      "\u001b[1;32me:\\AI-Hub\\ultralytics\\train.ipynb 셀 5\u001b[0m line \u001b[0;36m2\n\u001b[0;32m      <a href='vscode-notebook-cell:/e%3A/AI-Hub/ultralytics/train.ipynb#W5sZmlsZQ%3D%3D?line=0'>1</a>\u001b[0m \u001b[39m# 모델을 훈련합니다.\u001b[39;00m\n\u001b[1;32m----> <a href='vscode-notebook-cell:/e%3A/AI-Hub/ultralytics/train.ipynb#W5sZmlsZQ%3D%3D?line=1'>2</a>\u001b[0m results \u001b[39m=\u001b[39m model\u001b[39m.\u001b[39;49mtrain(data\u001b[39m=\u001b[39;49m\u001b[39m'\u001b[39;49m\u001b[39mmydataset.yaml\u001b[39;49m\u001b[39m'\u001b[39;49m, epochs\u001b[39m=\u001b[39;49m\u001b[39m10\u001b[39;49m, imgsz\u001b[39m=\u001b[39;49m\u001b[39m640\u001b[39;49m, project\u001b[39m=\u001b[39;49m\u001b[39m\"\u001b[39;49m\u001b[39myolov8n_AI_Application\u001b[39;49m\u001b[39m\"\u001b[39;49m, save_period\u001b[39m=\u001b[39;49m\u001b[39m1\u001b[39;49m, save_json\u001b[39m=\u001b[39;49m\u001b[39mTrue\u001b[39;49;00m,)\n",
      "File \u001b[1;32me:\\AI-Hub\\ultralytics\\ultralytics\\engine\\model.py:338\u001b[0m, in \u001b[0;36mModel.train\u001b[1;34m(self, trainer, **kwargs)\u001b[0m\n\u001b[0;32m    336\u001b[0m     \u001b[39mself\u001b[39m\u001b[39m.\u001b[39mmodel \u001b[39m=\u001b[39m \u001b[39mself\u001b[39m\u001b[39m.\u001b[39mtrainer\u001b[39m.\u001b[39mmodel\n\u001b[0;32m    337\u001b[0m \u001b[39mself\u001b[39m\u001b[39m.\u001b[39mtrainer\u001b[39m.\u001b[39mhub_session \u001b[39m=\u001b[39m \u001b[39mself\u001b[39m\u001b[39m.\u001b[39msession  \u001b[39m# attach optional HUB session\u001b[39;00m\n\u001b[1;32m--> 338\u001b[0m \u001b[39mself\u001b[39;49m\u001b[39m.\u001b[39;49mtrainer\u001b[39m.\u001b[39;49mtrain()\n\u001b[0;32m    339\u001b[0m \u001b[39m# Update model and cfg after training\u001b[39;00m\n\u001b[0;32m    340\u001b[0m \u001b[39mif\u001b[39;00m RANK \u001b[39min\u001b[39;00m (\u001b[39m-\u001b[39m\u001b[39m1\u001b[39m, \u001b[39m0\u001b[39m):\n",
      "File \u001b[1;32me:\\AI-Hub\\ultralytics\\ultralytics\\engine\\trainer.py:190\u001b[0m, in \u001b[0;36mBaseTrainer.train\u001b[1;34m(self)\u001b[0m\n\u001b[0;32m    187\u001b[0m         ddp_cleanup(\u001b[39mself\u001b[39m, \u001b[39mstr\u001b[39m(file))\n\u001b[0;32m    189\u001b[0m \u001b[39melse\u001b[39;00m:\n\u001b[1;32m--> 190\u001b[0m     \u001b[39mself\u001b[39;49m\u001b[39m.\u001b[39;49m_do_train(world_size)\n",
      "File \u001b[1;32me:\\AI-Hub\\ultralytics\\ultralytics\\engine\\trainer.py:286\u001b[0m, in \u001b[0;36mBaseTrainer._do_train\u001b[1;34m(self, world_size)\u001b[0m\n\u001b[0;32m    284\u001b[0m \u001b[39mif\u001b[39;00m world_size \u001b[39m>\u001b[39m \u001b[39m1\u001b[39m:\n\u001b[0;32m    285\u001b[0m     \u001b[39mself\u001b[39m\u001b[39m.\u001b[39m_setup_ddp(world_size)\n\u001b[1;32m--> 286\u001b[0m \u001b[39mself\u001b[39;49m\u001b[39m.\u001b[39;49m_setup_train(world_size)\n\u001b[0;32m    288\u001b[0m \u001b[39mself\u001b[39m\u001b[39m.\u001b[39mepoch_time \u001b[39m=\u001b[39m \u001b[39mNone\u001b[39;00m\n\u001b[0;32m    289\u001b[0m \u001b[39mself\u001b[39m\u001b[39m.\u001b[39mepoch_time_start \u001b[39m=\u001b[39m time\u001b[39m.\u001b[39mtime()\n",
      "File \u001b[1;32me:\\AI-Hub\\ultralytics\\ultralytics\\engine\\trainer.py:251\u001b[0m, in \u001b[0;36mBaseTrainer._setup_train\u001b[1;34m(self, world_size)\u001b[0m\n\u001b[0;32m    249\u001b[0m \u001b[39m# Dataloaders\u001b[39;00m\n\u001b[0;32m    250\u001b[0m batch_size \u001b[39m=\u001b[39m \u001b[39mself\u001b[39m\u001b[39m.\u001b[39mbatch_size \u001b[39m/\u001b[39m\u001b[39m/\u001b[39m \u001b[39mmax\u001b[39m(world_size, \u001b[39m1\u001b[39m)\n\u001b[1;32m--> 251\u001b[0m \u001b[39mself\u001b[39m\u001b[39m.\u001b[39mtrain_loader \u001b[39m=\u001b[39m \u001b[39mself\u001b[39;49m\u001b[39m.\u001b[39;49mget_dataloader(\u001b[39mself\u001b[39;49m\u001b[39m.\u001b[39;49mtrainset, batch_size\u001b[39m=\u001b[39;49mbatch_size, rank\u001b[39m=\u001b[39;49mRANK, mode\u001b[39m=\u001b[39;49m\u001b[39m'\u001b[39;49m\u001b[39mtrain\u001b[39;49m\u001b[39m'\u001b[39;49m)\n\u001b[0;32m    252\u001b[0m \u001b[39mif\u001b[39;00m RANK \u001b[39min\u001b[39;00m (\u001b[39m-\u001b[39m\u001b[39m1\u001b[39m, \u001b[39m0\u001b[39m):\n\u001b[0;32m    253\u001b[0m     \u001b[39mself\u001b[39m\u001b[39m.\u001b[39mtest_loader \u001b[39m=\u001b[39m \u001b[39mself\u001b[39m\u001b[39m.\u001b[39mget_dataloader(\u001b[39mself\u001b[39m\u001b[39m.\u001b[39mtestset, batch_size\u001b[39m=\u001b[39mbatch_size \u001b[39m*\u001b[39m \u001b[39m2\u001b[39m, rank\u001b[39m=\u001b[39m\u001b[39m-\u001b[39m\u001b[39m1\u001b[39m, mode\u001b[39m=\u001b[39m\u001b[39m'\u001b[39m\u001b[39mval\u001b[39m\u001b[39m'\u001b[39m)\n",
      "File \u001b[1;32me:\\AI-Hub\\ultralytics\\ultralytics\\models\\yolo\\detect\\train.py:46\u001b[0m, in \u001b[0;36mDetectionTrainer.get_dataloader\u001b[1;34m(self, dataset_path, batch_size, rank, mode)\u001b[0m\n\u001b[0;32m     44\u001b[0m \u001b[39massert\u001b[39;00m mode \u001b[39min\u001b[39;00m [\u001b[39m'\u001b[39m\u001b[39mtrain\u001b[39m\u001b[39m'\u001b[39m, \u001b[39m'\u001b[39m\u001b[39mval\u001b[39m\u001b[39m'\u001b[39m]\n\u001b[0;32m     45\u001b[0m \u001b[39mwith\u001b[39;00m torch_distributed_zero_first(rank):  \u001b[39m# init dataset *.cache only once if DDP\u001b[39;00m\n\u001b[1;32m---> 46\u001b[0m     dataset \u001b[39m=\u001b[39m \u001b[39mself\u001b[39;49m\u001b[39m.\u001b[39;49mbuild_dataset(dataset_path, mode, batch_size)\n\u001b[0;32m     47\u001b[0m shuffle \u001b[39m=\u001b[39m mode \u001b[39m==\u001b[39m \u001b[39m'\u001b[39m\u001b[39mtrain\u001b[39m\u001b[39m'\u001b[39m\n\u001b[0;32m     48\u001b[0m \u001b[39mif\u001b[39;00m \u001b[39mgetattr\u001b[39m(dataset, \u001b[39m'\u001b[39m\u001b[39mrect\u001b[39m\u001b[39m'\u001b[39m, \u001b[39mFalse\u001b[39;00m) \u001b[39mand\u001b[39;00m shuffle:\n",
      "File \u001b[1;32me:\\AI-Hub\\ultralytics\\ultralytics\\models\\yolo\\detect\\train.py:40\u001b[0m, in \u001b[0;36mDetectionTrainer.build_dataset\u001b[1;34m(self, img_path, mode, batch)\u001b[0m\n\u001b[0;32m     31\u001b[0m \u001b[39m\u001b[39m\u001b[39m\"\"\"\u001b[39;00m\n\u001b[0;32m     32\u001b[0m \u001b[39mBuild YOLO Dataset.\u001b[39;00m\n\u001b[0;32m     33\u001b[0m \n\u001b[1;32m   (...)\u001b[0m\n\u001b[0;32m     37\u001b[0m \u001b[39m    batch (int, optional): Size of batches, this is for `rect`. Defaults to None.\u001b[39;00m\n\u001b[0;32m     38\u001b[0m \u001b[39m\"\"\"\u001b[39;00m\n\u001b[0;32m     39\u001b[0m gs \u001b[39m=\u001b[39m \u001b[39mmax\u001b[39m(\u001b[39mint\u001b[39m(de_parallel(\u001b[39mself\u001b[39m\u001b[39m.\u001b[39mmodel)\u001b[39m.\u001b[39mstride\u001b[39m.\u001b[39mmax() \u001b[39mif\u001b[39;00m \u001b[39mself\u001b[39m\u001b[39m.\u001b[39mmodel \u001b[39melse\u001b[39;00m \u001b[39m0\u001b[39m), \u001b[39m32\u001b[39m)\n\u001b[1;32m---> 40\u001b[0m \u001b[39mreturn\u001b[39;00m build_yolo_dataset(\u001b[39mself\u001b[39;49m\u001b[39m.\u001b[39;49margs, img_path, batch, \u001b[39mself\u001b[39;49m\u001b[39m.\u001b[39;49mdata, mode\u001b[39m=\u001b[39;49mmode, rect\u001b[39m=\u001b[39;49mmode \u001b[39m==\u001b[39;49m \u001b[39m'\u001b[39;49m\u001b[39mval\u001b[39;49m\u001b[39m'\u001b[39;49m, stride\u001b[39m=\u001b[39;49mgs)\n",
      "File \u001b[1;32me:\\AI-Hub\\ultralytics\\ultralytics\\data\\build.py:80\u001b[0m, in \u001b[0;36mbuild_yolo_dataset\u001b[1;34m(cfg, img_path, batch, data, mode, rect, stride)\u001b[0m\n\u001b[0;32m     78\u001b[0m \u001b[39mdef\u001b[39;00m \u001b[39mbuild_yolo_dataset\u001b[39m(cfg, img_path, batch, data, mode\u001b[39m=\u001b[39m\u001b[39m'\u001b[39m\u001b[39mtrain\u001b[39m\u001b[39m'\u001b[39m, rect\u001b[39m=\u001b[39m\u001b[39mFalse\u001b[39;00m, stride\u001b[39m=\u001b[39m\u001b[39m32\u001b[39m):\n\u001b[0;32m     79\u001b[0m \u001b[39m    \u001b[39m\u001b[39m\"\"\"Build YOLO Dataset.\"\"\"\u001b[39;00m\n\u001b[1;32m---> 80\u001b[0m     \u001b[39mreturn\u001b[39;00m YOLODataset(\n\u001b[0;32m     81\u001b[0m         img_path\u001b[39m=\u001b[39;49mimg_path,\n\u001b[0;32m     82\u001b[0m         imgsz\u001b[39m=\u001b[39;49mcfg\u001b[39m.\u001b[39;49mimgsz,\n\u001b[0;32m     83\u001b[0m         batch_size\u001b[39m=\u001b[39;49mbatch,\n\u001b[0;32m     84\u001b[0m         augment\u001b[39m=\u001b[39;49mmode \u001b[39m==\u001b[39;49m \u001b[39m'\u001b[39;49m\u001b[39mtrain\u001b[39;49m\u001b[39m'\u001b[39;49m,  \u001b[39m# augmentation\u001b[39;49;00m\n\u001b[0;32m     85\u001b[0m         hyp\u001b[39m=\u001b[39;49mcfg,  \u001b[39m# TODO: probably add a get_hyps_from_cfg function\u001b[39;49;00m\n\u001b[0;32m     86\u001b[0m         rect\u001b[39m=\u001b[39;49mcfg\u001b[39m.\u001b[39;49mrect \u001b[39mor\u001b[39;49;00m rect,  \u001b[39m# rectangular batches\u001b[39;49;00m\n\u001b[0;32m     87\u001b[0m         cache\u001b[39m=\u001b[39;49mcfg\u001b[39m.\u001b[39;49mcache \u001b[39mor\u001b[39;49;00m \u001b[39mNone\u001b[39;49;00m,\n\u001b[0;32m     88\u001b[0m         single_cls\u001b[39m=\u001b[39;49mcfg\u001b[39m.\u001b[39;49msingle_cls \u001b[39mor\u001b[39;49;00m \u001b[39mFalse\u001b[39;49;00m,\n\u001b[0;32m     89\u001b[0m         stride\u001b[39m=\u001b[39;49m\u001b[39mint\u001b[39;49m(stride),\n\u001b[0;32m     90\u001b[0m         pad\u001b[39m=\u001b[39;49m\u001b[39m0.0\u001b[39;49m \u001b[39mif\u001b[39;49;00m mode \u001b[39m==\u001b[39;49m \u001b[39m'\u001b[39;49m\u001b[39mtrain\u001b[39;49m\u001b[39m'\u001b[39;49m \u001b[39melse\u001b[39;49;00m \u001b[39m0.5\u001b[39;49m,\n\u001b[0;32m     91\u001b[0m         prefix\u001b[39m=\u001b[39;49mcolorstr(\u001b[39mf\u001b[39;49m\u001b[39m'\u001b[39;49m\u001b[39m{\u001b[39;49;00mmode\u001b[39m}\u001b[39;49;00m\u001b[39m: \u001b[39;49m\u001b[39m'\u001b[39;49m),\n\u001b[0;32m     92\u001b[0m         use_segments\u001b[39m=\u001b[39;49mcfg\u001b[39m.\u001b[39;49mtask \u001b[39m==\u001b[39;49m \u001b[39m'\u001b[39;49m\u001b[39msegment\u001b[39;49m\u001b[39m'\u001b[39;49m,\n\u001b[0;32m     93\u001b[0m         use_keypoints\u001b[39m=\u001b[39;49mcfg\u001b[39m.\u001b[39;49mtask \u001b[39m==\u001b[39;49m \u001b[39m'\u001b[39;49m\u001b[39mpose\u001b[39;49m\u001b[39m'\u001b[39;49m,\n\u001b[0;32m     94\u001b[0m         classes\u001b[39m=\u001b[39;49mcfg\u001b[39m.\u001b[39;49mclasses,\n\u001b[0;32m     95\u001b[0m         data\u001b[39m=\u001b[39;49mdata,\n\u001b[0;32m     96\u001b[0m         fraction\u001b[39m=\u001b[39;49mcfg\u001b[39m.\u001b[39;49mfraction \u001b[39mif\u001b[39;49;00m mode \u001b[39m==\u001b[39;49m \u001b[39m'\u001b[39;49m\u001b[39mtrain\u001b[39;49m\u001b[39m'\u001b[39;49m \u001b[39melse\u001b[39;49;00m \u001b[39m1.0\u001b[39;49m)\n",
      "File \u001b[1;32me:\\AI-Hub\\ultralytics\\ultralytics\\data\\dataset.py:41\u001b[0m, in \u001b[0;36mYOLODataset.__init__\u001b[1;34m(self, data, use_segments, use_keypoints, *args, **kwargs)\u001b[0m\n\u001b[0;32m     39\u001b[0m \u001b[39mself\u001b[39m\u001b[39m.\u001b[39mdata \u001b[39m=\u001b[39m data\n\u001b[0;32m     40\u001b[0m \u001b[39massert\u001b[39;00m \u001b[39mnot\u001b[39;00m (\u001b[39mself\u001b[39m\u001b[39m.\u001b[39muse_segments \u001b[39mand\u001b[39;00m \u001b[39mself\u001b[39m\u001b[39m.\u001b[39muse_keypoints), \u001b[39m'\u001b[39m\u001b[39mCan not use both segments and keypoints.\u001b[39m\u001b[39m'\u001b[39m\n\u001b[1;32m---> 41\u001b[0m \u001b[39msuper\u001b[39;49m()\u001b[39m.\u001b[39;49m\u001b[39m__init__\u001b[39;49m(\u001b[39m*\u001b[39;49margs, \u001b[39m*\u001b[39;49m\u001b[39m*\u001b[39;49mkwargs)\n",
      "File \u001b[1;32me:\\AI-Hub\\ultralytics\\ultralytics\\data\\base.py:72\u001b[0m, in \u001b[0;36mBaseDataset.__init__\u001b[1;34m(self, img_path, imgsz, cache, augment, hyp, prefix, rect, batch_size, stride, pad, single_cls, classes, fraction)\u001b[0m\n\u001b[0;32m     70\u001b[0m \u001b[39mself\u001b[39m\u001b[39m.\u001b[39mprefix \u001b[39m=\u001b[39m prefix\n\u001b[0;32m     71\u001b[0m \u001b[39mself\u001b[39m\u001b[39m.\u001b[39mfraction \u001b[39m=\u001b[39m fraction\n\u001b[1;32m---> 72\u001b[0m \u001b[39mself\u001b[39m\u001b[39m.\u001b[39mim_files \u001b[39m=\u001b[39m \u001b[39mself\u001b[39;49m\u001b[39m.\u001b[39;49mget_img_files(\u001b[39mself\u001b[39;49m\u001b[39m.\u001b[39;49mimg_path)\n\u001b[0;32m     73\u001b[0m \u001b[39mself\u001b[39m\u001b[39m.\u001b[39mlabels \u001b[39m=\u001b[39m \u001b[39mself\u001b[39m\u001b[39m.\u001b[39mget_labels()\n\u001b[0;32m     74\u001b[0m \u001b[39mself\u001b[39m\u001b[39m.\u001b[39mupdate_labels(include_class\u001b[39m=\u001b[39mclasses)  \u001b[39m# single_cls and include_class\u001b[39;00m\n",
      "File \u001b[1;32me:\\AI-Hub\\ultralytics\\ultralytics\\data\\base.py:120\u001b[0m, in \u001b[0;36mBaseDataset.get_img_files\u001b[1;34m(self, img_path)\u001b[0m\n\u001b[0;32m    118\u001b[0m     \u001b[39massert\u001b[39;00m im_files, \u001b[39mf\u001b[39m\u001b[39m'\u001b[39m\u001b[39m{\u001b[39;00m\u001b[39mself\u001b[39m\u001b[39m.\u001b[39mprefix\u001b[39m}\u001b[39;00m\u001b[39mNo images found in \u001b[39m\u001b[39m{\u001b[39;00mimg_path\u001b[39m}\u001b[39;00m\u001b[39m'\u001b[39m\n\u001b[0;32m    119\u001b[0m \u001b[39mexcept\u001b[39;00m \u001b[39mException\u001b[39;00m \u001b[39mas\u001b[39;00m e:\n\u001b[1;32m--> 120\u001b[0m     \u001b[39mraise\u001b[39;00m \u001b[39mFileNotFoundError\u001b[39;00m(\u001b[39mf\u001b[39m\u001b[39m'\u001b[39m\u001b[39m{\u001b[39;00m\u001b[39mself\u001b[39m\u001b[39m.\u001b[39mprefix\u001b[39m}\u001b[39;00m\u001b[39mError loading data from \u001b[39m\u001b[39m{\u001b[39;00mimg_path\u001b[39m}\u001b[39;00m\u001b[39m\\n\u001b[39;00m\u001b[39m{\u001b[39;00mHELP_URL\u001b[39m}\u001b[39;00m\u001b[39m'\u001b[39m) \u001b[39mfrom\u001b[39;00m \u001b[39me\u001b[39;00m\n\u001b[0;32m    121\u001b[0m \u001b[39mif\u001b[39;00m \u001b[39mself\u001b[39m\u001b[39m.\u001b[39mfraction \u001b[39m<\u001b[39m \u001b[39m1\u001b[39m:\n\u001b[0;32m    122\u001b[0m     im_files \u001b[39m=\u001b[39m im_files[:\u001b[39mround\u001b[39m(\u001b[39mlen\u001b[39m(im_files) \u001b[39m*\u001b[39m \u001b[39mself\u001b[39m\u001b[39m.\u001b[39mfraction)]\n",
      "\u001b[1;31mFileNotFoundError\u001b[0m: \u001b[34m\u001b[1mtrain: \u001b[0mError loading data from E:\\AI-Hub\\my_dataset\\images\\train\nSee https://docs.ultralytics.com/datasets/detect for dataset formatting guidance."
     ]
    }
   ],
   "source": [
    "# 모델을 훈련합니다.\n",
    "results = model.train(data='mydataset.yaml', batch_size=-1 ,epochs=10, imgsz=640, project=\"yolov8n_AI_Application\", save_period=1, save_json=True,)"
   ]
  },
  {
   "cell_type": "code",
   "execution_count": null,
   "metadata": {},
   "outputs": [
    {
     "data": {
      "text/plain": [
       "'0.16.1+cu121'"
      ]
     },
     "execution_count": 3,
     "metadata": {},
     "output_type": "execute_result"
    }
   ],
   "source": [
    "import torchvision\n",
    "torchvision.__version__"
   ]
  },
  {
   "cell_type": "code",
   "execution_count": null,
   "metadata": {},
   "outputs": [],
   "source": []
  }
 ],
 "metadata": {
  "kernelspec": {
   "display_name": "myenv",
   "language": "python",
   "name": "python3"
  },
  "language_info": {
   "codemirror_mode": {
    "name": "ipython",
    "version": 3
   },
   "file_extension": ".py",
   "mimetype": "text/x-python",
   "name": "python",
   "nbconvert_exporter": "python",
   "pygments_lexer": "ipython3",
   "version": "3.11.1"
  }
 },
 "nbformat": 4,
 "nbformat_minor": 2
}
